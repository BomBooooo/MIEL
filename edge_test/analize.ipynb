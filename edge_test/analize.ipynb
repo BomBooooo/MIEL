{
 "cells": [
  {
   "cell_type": "code",
   "execution_count": 26,
   "metadata": {},
   "outputs": [
    {
     "name": "stdout",
     "output_type": "stream",
     "text": [
      "device: cpu\n",
      "ETTh1_96 energy consumption: 0.073 J, power consumption: 42.91 W, time: 0.00169 s\n",
      "ETTh1_336 energy consumption: 0.102 J, power consumption: 42.95 W, time: 0.00237 s\n",
      "ETTh1_960 energy consumption: 0.170 J, power consumption: 43.62 W, time: 0.00391 s\n",
      "ETTh1_1680 energy consumption: 0.315 J, power consumption: 44.54 W, time: 0.00706 s\n"
     ]
    }
   ],
   "source": [
    "repeat_num = 3\n",
    "test_times = 10000\n",
    "for data_name in [\"ETTh1\"]:\n",
    "    for pl in [96, 336, 960, 1680]:\n",
    "        w_j = 0\n",
    "        t_j = 0\n",
    "        cal_time = 0\n",
    "        for i in range(repeat_num):\n",
    "            with open(f\"./limited_results2/{data_name}_{pl}_warmup_result_cpu_{i}.txt\", \"rb\") as f:\n",
    "                text = f.read().decode(\"utf-8\").split(\"\\n\")[16:-1]\n",
    "                w_j += float(text[3].strip().split(\" \")[0].replace(\",\", \"\")) + float(\n",
    "                    text[4].strip().split(\" \")[0].replace(\",\", \"\")\n",
    "                )\n",
    "                cal_time -= float(text[-2].strip().split(\" \")[0])\n",
    "            with open(f\"./limited_results2/{data_name}_{pl}_result_cpu_{i}.txt\", \"rb\") as f:\n",
    "                text = f.read().decode(\"utf-8\").split(\"\\n\")[16:-1]\n",
    "                t_j += float(text[3].strip().split(\" \")[0].replace(\",\", \"\")) + float(\n",
    "                    text[4].strip().split(\" \")[0].replace(\",\", \"\")\n",
    "                )\n",
    "                cal_time += float(text[-2].strip().split(\" \")[0])\n",
    "        j = (t_j - w_j) / repeat_num / test_times\n",
    "        cal_time = cal_time / repeat_num / test_times\n",
    "        w = j / cal_time\n",
    "        print(\n",
    "            f\"{data_name}_{pl} energy consumption: {j:.3f} J, power consumption: {w:.2f} W, time: {cal_time:.5f} s\"\n",
    "        )"
   ]
  }
 ],
 "metadata": {
  "kernelspec": {
   "display_name": "p38",
   "language": "python",
   "name": "python3"
  },
  "language_info": {
   "codemirror_mode": {
    "name": "ipython",
    "version": 3
   },
   "file_extension": ".py",
   "mimetype": "text/x-python",
   "name": "python",
   "nbconvert_exporter": "python",
   "pygments_lexer": "ipython3",
   "version": "3.8.20"
  }
 },
 "nbformat": 4,
 "nbformat_minor": 2
}
